{
 "cells": [
  {
   "cell_type": "markdown",
   "metadata": {},
   "source": [
    "# Criando uma PERCEPTRON\n",
    "\n",
    "<small><b>Prof</b> Msc. Anusio M. Correia</small>\n",
    "\n",
    "### O que é?\n",
    "\n",
    "O que hoje é conhecido como Rede Neural Artificial (RNA) é uma técnica inspirada no funcionamento do cérebro, onde neurônios artificiais, conectados em rede, são capazes de aprender e de generalizar.\n",
    "\n",
    "![Estrutura Perceptron](./perceptron2.png)\n",
    "\n",
    "O Perceptron é uma rede neural de camada única.\n",
    "\n",
    "Para construir uma Perceptron, utiliza-se um peso para cada valor de entrada e uma função de ativação, como na Figura abaixo.\n",
    "\n",
    "![Estrutura Perceptron](./perceptron.png)\n",
    "\n",
    "Então basta fazer $\\sum_{i = 0}^{n} (W_i*X_i)$ onde $n$ é o número de dados de entrada, $W$ são os pesos e $X$ são as entradas. \n",
    "E então este resultado é ativado pela função de ativação. Normalmente se utiliza a sigmoid, porém existem outras.\n",
    "\n",
    "$$\n",
    "\\sigma(x) = \\frac{1}{1 + e^{-x}}\n",
    "$$\n",
    "\n",
    "\n"
   ]
  },
  {
   "cell_type": "markdown",
   "metadata": {},
   "source": [
    "#### Imports"
   ]
  },
  {
   "cell_type": "code",
   "execution_count": 1,
   "metadata": {},
   "outputs": [],
   "source": [
    "import numpy as np\n",
    "import matplotlib.pyplot as plt\n",
    "import random\n",
    "import math"
   ]
  },
  {
   "cell_type": "markdown",
   "metadata": {},
   "source": [
    "#### Código"
   ]
  },
  {
   "cell_type": "code",
   "execution_count": 2,
   "metadata": {},
   "outputs": [],
   "source": [
    "def sigmoid(x):\n",
    "    return 1 / (1 + math.exp(-x))"
   ]
  },
  {
   "cell_type": "code",
   "execution_count": 3,
   "metadata": {},
   "outputs": [],
   "source": [
    "# Criando os pesos da perceptron\n",
    "W = []\n",
    "N_entrada = 2\n",
    "\n",
    "for i in range(N_entrada):\n",
    "    W.append(random.random()*20 -10)"
   ]
  },
  {
   "cell_type": "code",
   "execution_count": 4,
   "metadata": {},
   "outputs": [
    {
     "data": {
      "text/plain": [
       "[-0.5982141718592295, 0.7229687114624213]"
      ]
     },
     "execution_count": 4,
     "metadata": {},
     "output_type": "execute_result"
    }
   ],
   "source": [
    "W"
   ]
  },
  {
   "cell_type": "code",
   "execution_count": 5,
   "metadata": {},
   "outputs": [],
   "source": [
    "# Entrada\n",
    "X = [1,0]"
   ]
  },
  {
   "cell_type": "code",
   "execution_count": 6,
   "metadata": {},
   "outputs": [],
   "source": [
    "# Calculando resposta\n",
    "soma = 0\n",
    "for i in range(len(W)):\n",
    "    soma += W[i]*X[i]"
   ]
  },
  {
   "cell_type": "code",
   "execution_count": 7,
   "metadata": {},
   "outputs": [
    {
     "data": {
      "text/plain": [
       "-0.5982141718592295"
      ]
     },
     "execution_count": 7,
     "metadata": {},
     "output_type": "execute_result"
    }
   ],
   "source": [
    "soma"
   ]
  },
  {
   "cell_type": "code",
   "execution_count": 8,
   "metadata": {},
   "outputs": [],
   "source": [
    "# Forma python de viver\n",
    "soma = sum([w*x for w,x in zip(W, X)])"
   ]
  },
  {
   "cell_type": "code",
   "execution_count": 9,
   "metadata": {},
   "outputs": [
    {
     "data": {
      "text/plain": [
       "-0.5982141718592295"
      ]
     },
     "execution_count": 9,
     "metadata": {},
     "output_type": "execute_result"
    }
   ],
   "source": [
    "soma"
   ]
  },
  {
   "cell_type": "code",
   "execution_count": 10,
   "metadata": {},
   "outputs": [],
   "source": [
    "# Ativando\n",
    "activated = sigmoid(soma)"
   ]
  },
  {
   "cell_type": "code",
   "execution_count": 11,
   "metadata": {},
   "outputs": [
    {
     "data": {
      "text/plain": [
       "0.3547523693038713"
      ]
     },
     "execution_count": 11,
     "metadata": {},
     "output_type": "execute_result"
    }
   ],
   "source": [
    "activated"
   ]
  },
  {
   "cell_type": "markdown",
   "metadata": {},
   "source": [
    "## Exercício\n",
    "Considere o seguinte problema:\n",
    "\n",
    "As Rosas são vermelhas e as violetas são azuis, o caule das as rosas são altas e as violetas são baixas.\n",
    "\n",
    "Então:\n",
    "- Tendo o espectro de cor entre vermelho = 0 e azul = 10.\n",
    "- Entre 0 e 10 há uma mistura das duas cores, onde quanto mais próximo de 0 mais vermelho e quanto mais próximo de 10 mais azul.\n",
    "- Dado um conjunto de pares com (altura,cor) determine se é uma rosa ou violeta.\n",
    "\n",
    "![Rosas](rosas.png)\n",
    "\n",
    "1. Crie uma perceptron.\n",
    "1. Formule os labels (dados conhecidos) para este problema.\n",
    "2. Utilize a perceptron para classificar se são rosas ou violetas. \n",
    "    1. Quantos ela acertou e errou?\n",
    "    2. Qual o problema?\n",
    "\n",
    "\n"
   ]
  }
 ],
 "metadata": {
  "kernelspec": {
   "display_name": "Python 3",
   "language": "python",
   "name": "python3"
  },
  "language_info": {
   "codemirror_mode": {
    "name": "ipython",
    "version": 3
   },
   "file_extension": ".py",
   "mimetype": "text/x-python",
   "name": "python",
   "nbconvert_exporter": "python",
   "pygments_lexer": "ipython3",
   "version": "3.6.6"
  }
 },
 "nbformat": 4,
 "nbformat_minor": 2
}
