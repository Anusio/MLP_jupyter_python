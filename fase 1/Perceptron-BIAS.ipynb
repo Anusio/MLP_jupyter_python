{
 "cells": [
  {
   "cell_type": "markdown",
   "metadata": {},
   "source": [
    "# BIAS - tendência\n",
    "\n",
    "Para que a perceptron \"saia do ponto (0,0)\", é adicionado um outro fator ao resultado.\n",
    "\n",
    "Então basta fazer $[\\sum_{i = 0}^{n} (W_i*X_i)] + b$ onde $n$ é o número de dados de entrada, $W$ são os pesos e $X$ são as entradas e $b$ é o bias, ou tendência. \n",
    "\n",
    "$b$ é um numero arbitrario != 0.\n",
    "\n",
    "Desta forma, o processo fica:\n",
    "\n",
    "$$\n",
    "x = [\\sum_{i = 0}^{n} (W_i*X_i)] + b\n",
    "$$\n",
    "$$\n",
    "\\sigma(x) = \\frac{1}{1 + e^{-x}}\n",
    "$$\n"
   ]
  },
  {
   "cell_type": "markdown",
   "metadata": {},
   "source": [
    "#### Imports"
   ]
  },
  {
   "cell_type": "code",
   "execution_count": 1,
   "metadata": {},
   "outputs": [],
   "source": [
    "import numpy as np\n",
    "import matplotlib.pyplot as plt\n",
    "import random\n",
    "import math"
   ]
  },
  {
   "cell_type": "markdown",
   "metadata": {},
   "source": [
    "#### Código"
   ]
  },
  {
   "cell_type": "code",
   "execution_count": 2,
   "metadata": {},
   "outputs": [],
   "source": [
    "def sigmoid(x):\n",
    "    return 1 / (1 + math.exp(-x))"
   ]
  },
  {
   "cell_type": "code",
   "execution_count": 3,
   "metadata": {},
   "outputs": [],
   "source": [
    "# Entrada\n",
    "points = [[1,0]]"
   ]
  },
  {
   "cell_type": "code",
   "execution_count": 4,
   "metadata": {},
   "outputs": [],
   "source": [
    "# Criando os pesos da perceptron\n",
    "W = []\n",
    "N_entrada = 3\n",
    "\n",
    "for i in range(N_entrada):\n",
    "    W.append(random.random()*2 -1)\n"
   ]
  },
  {
   "cell_type": "code",
   "execution_count": 5,
   "metadata": {},
   "outputs": [
    {
     "data": {
      "text/plain": [
       "[0.8585985776950877, -0.02166610886010023, -0.48227027518644583]"
      ]
     },
     "execution_count": 5,
     "metadata": {},
     "output_type": "execute_result"
    }
   ],
   "source": [
    "W"
   ]
  },
  {
   "cell_type": "code",
   "execution_count": 6,
   "metadata": {},
   "outputs": [],
   "source": [
    "def predict(X):\n",
    "    return sigmoid(sum([w*x for w,x in zip(W, X)])) "
   ]
  },
  {
   "cell_type": "markdown",
   "metadata": {},
   "source": [
    "Adicionar um bias, equivale adicionar um terceiro parâmetro para o dado de entrada, sendo que este sempre será 1, desta forma o Bias será o peso associado ao dado de entrada."
   ]
  },
  {
   "cell_type": "code",
   "execution_count": 14,
   "metadata": {},
   "outputs": [
    {
     "name": "stdout",
     "output_type": "stream",
     "text": [
      "0.5929872298031833\n"
     ]
    }
   ],
   "source": [
    "for X in points:\n",
    "    p = predict([X[0], X[1], 1])\n",
    "    print(p)"
   ]
  },
  {
   "cell_type": "markdown",
   "metadata": {},
   "source": [
    "## Visualizando...\n",
    "\n",
    "Cria-se uma imagem de tamanho arbitrário."
   ]
  },
  {
   "cell_type": "code",
   "execution_count": 8,
   "metadata": {},
   "outputs": [],
   "source": [
    "img = np.ones((300, 400)) "
   ]
  },
  {
   "cell_type": "markdown",
   "metadata": {},
   "source": [
    "Define-se o tamanho das entradas x e y, sendo que a largura da imagem será o máximo a ser exibido na direção x enquanto que a altura será na direção y.\n",
    "\n",
    "Então manda-se predizer, com os valores baseados em x e y, sendo que serão convertidos para valores do problema, pintando cada pixel da imagem na posição x e y calculada."
   ]
  },
  {
   "cell_type": "code",
   "execution_count": 9,
   "metadata": {},
   "outputs": [],
   "source": [
    "# grab the image dimensions\n",
    "w = img.shape[0]\n",
    "h = img.shape[1]\n",
    "\n",
    "# loop over the image, pixel by pixel\n",
    "for x in range(0, w):\n",
    "    for y in range(0, h):\n",
    "        # threshold the pixel\n",
    "        img[x][y] = predict([x/w, y/h, 1])\n"
   ]
  },
  {
   "cell_type": "code",
   "execution_count": 10,
   "metadata": {},
   "outputs": [
    {
     "data": {
      "image/png": "[encoded data removed]",
      "text/plain": [
       "<Figure size 432x288 with 2 Axes>"
      ]
     },
     "metadata": {
      "needs_background": "light"
     },
     "output_type": "display_data"
    }
   ],
   "source": [
    "plt.imshow(img, origin='lower')\n",
    "plt.colorbar()\n",
    "plt.show()"
   ]
  },
  {
   "cell_type": "markdown",
   "metadata": {},
   "source": [
    "Diz-se que os valores de saída da rede, em problemas de classificação, é a certeza que a rede tem de esta certa. Assim, perceba que quanto mais perto de (0, 300) e (400, 0) mais certeza a rede tem de que a resposta é uma ou outra classificação."
   ]
  },
  {
   "cell_type": "code",
   "execution_count": 11,
   "metadata": {},
   "outputs": [],
   "source": [
    "# grab the image dimensions\n",
    "w = img.shape[0]\n",
    "h = img.shape[1]\n",
    "\n",
    "# loop over the image, pixel by pixel\n",
    "for x in range(0, w):\n",
    "    for y in range(0, h):\n",
    "        # threshold the pixel\n",
    "        if (predict([x/w, y/h, 1]) > 0.5):\n",
    "            img[x][y] = 1\n",
    "        else:\n",
    "            img[x][y] = 0 "
   ]
  },
  {
   "cell_type": "code",
   "execution_count": 12,
   "metadata": {},
   "outputs": [
    {
     "data": {
      "image/png": "[encoded data removed]",
      "text/plain": [
       "<Figure size 432x288 with 2 Axes>"
      ]
     },
     "metadata": {
      "needs_background": "light"
     },
     "output_type": "display_data"
    }
   ],
   "source": [
    "plt.imshow(img, origin='lower')\n",
    "plt.colorbar()\n",
    "plt.show()"
   ]
  }
 ],
 "metadata": {
  "kernelspec": {
   "display_name": "Python 3",
   "language": "python",
   "name": "python3"
  },
  "language_info": {
   "codemirror_mode": {
    "name": "ipython",
    "version": 3
   },
   "file_extension": ".py",
   "mimetype": "text/x-python",
   "name": "python",
   "nbconvert_exporter": "python",
   "pygments_lexer": "ipython3",
   "version": "3.7.3"
  }
 },
 "nbformat": 4,
 "nbformat_minor": 2
}
