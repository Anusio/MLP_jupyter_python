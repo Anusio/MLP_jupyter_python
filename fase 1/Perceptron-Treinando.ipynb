{
 "cells": [
  {
   "cell_type": "markdown",
   "metadata": {},
   "source": [
    "# Treinando a perceptron\n",
    "\n",
    "O treinamento de uma perceptron é feito atualizando os pesos.\n",
    "\n",
    "Mas para atualizar os pesos é necessário \"informar\" o que é o erro.\n",
    "\n",
    "Matematicamente:\n",
    "\n",
    "$$\n",
    "e = (y - y_{pred})\n",
    "$$\n",
    "$$\n",
    "err = lr*e*X_i\n",
    "$$\n",
    "$$\n",
    "W_i = W_i + err\n",
    "$$\n",
    "\n",
    "onde:\n",
    " - $lr$ é a taxa de aprendizado, ou Learning Rate\n",
    " - $e$ é o Erro da rede, normalmente o valor desejado menos o valor verdadeiro\n",
    " - $X_i$ é o valor de entrada associado ao peso $_i$\n",
    " - $W_i$ é o peso $_i$\n",
    "\n",
    "\n"
   ]
  },
  {
   "cell_type": "markdown",
   "metadata": {},
   "source": [
    "#### Imports"
   ]
  },
  {
   "cell_type": "code",
   "execution_count": 1,
   "metadata": {},
   "outputs": [],
   "source": [
    "import numpy as np\n",
    "import matplotlib.pyplot as plt\n",
    "import random\n",
    "import math"
   ]
  },
  {
   "cell_type": "markdown",
   "metadata": {},
   "source": [
    "#### Código"
   ]
  },
  {
   "cell_type": "code",
   "execution_count": 2,
   "metadata": {},
   "outputs": [],
   "source": [
    "def sigmoid(x):\n",
    "    return 1 / (1 + math.exp(-x))"
   ]
  },
  {
   "cell_type": "markdown",
   "metadata": {},
   "source": [
    "### Labels"
   ]
  },
  {
   "cell_type": "code",
   "execution_count": 3,
   "metadata": {},
   "outputs": [
    {
     "name": "stdout",
     "output_type": "stream",
     "text": [
      "[30.0, 0, 1.0] [1]\n",
      "[25.0, 5.0, 1.0] [1]\n",
      "[20.0, 3.0, 1.0] [1]\n",
      "[15.0, 8.0, 1.0] [0]\n",
      "[0.0, 10.0, 1.0] [0]\n",
      "[6.0, 7.0, 1.0] [0]\n"
     ]
    }
   ],
   "source": [
    "# Entrada labels\n",
    "points = [[30.0,0],\n",
    "          [25.0,5.0],\n",
    "          [20.0,3.0],\n",
    "          [15.0,8.0],\n",
    "          [0.0,10.0],\n",
    "          [6.0,7.0]]\n",
    "valor = [[1],\n",
    "         [1],\n",
    "         [1],\n",
    "         [0],\n",
    "         [0],\n",
    "         [0]]\n",
    "\n",
    "#  add bias\n",
    "for i in range(len(points)):\n",
    "    points[i].append(1.0)\n",
    "    \n",
    "for x, y in zip(points,valor):\n",
    "    print(x,y)"
   ]
  },
  {
   "cell_type": "markdown",
   "metadata": {},
   "source": [
    "## Normalização\n",
    "\n",
    "Normalmente se Normaliza os dados antes de passar para a rede.\n",
    "\n",
    "Normalizar é basicamente colocar os valores entre 0 e 1.\n",
    "\n",
    "Pois como os computadores trabalham com números discretos, a melhor faixa de números para se trabalhar esta entre o e 1.\n",
    "\n",
    "A forma mais simples de se fazer é dividir os valores pelo maior valor...\n",
    "\n",
    "Exemplo:\n",
    "\n",
    "sendo X = [10, 3, 4, 8, 20]\n",
    "\n",
    "X normalizado é [10/20, 3/20, 4/20, 8/20, 20/20]\n",
    "\n",
    "Pois desta forma, o maior valor é 1.\n",
    "\n",
    "Lembrando que os valores tem que ser ponto flutuante.\n",
    "\n"
   ]
  },
  {
   "cell_type": "code",
   "execution_count": 4,
   "metadata": {},
   "outputs": [
    {
     "name": "stdout",
     "output_type": "stream",
     "text": [
      "[1. 0. 1.] [1]\n",
      "[0.83333333 0.5        1.        ] [1]\n",
      "[0.66666667 0.3        1.        ] [1]\n",
      "[0.5 0.8 1. ] [0]\n",
      "[0. 1. 1.] [0]\n",
      "[0.2 0.7 1. ] [0]\n"
     ]
    }
   ],
   "source": [
    "points = np.array(points)\n",
    "# print(np.array(points).shape)\n",
    "# print(points[0][:])\n",
    "points[:,0] *= 1/30\n",
    "points[:,1] *= 1/10\n",
    "\n",
    "for x, y in zip(points,valor):\n",
    "    print(x,y)"
   ]
  },
  {
   "cell_type": "markdown",
   "metadata": {},
   "source": [
    "# pesos"
   ]
  },
  {
   "cell_type": "code",
   "execution_count": 5,
   "metadata": {},
   "outputs": [],
   "source": [
    "# Criando os pesos da perceptron\n",
    "W = []\n",
    "N_entrada = 3\n",
    "\n",
    "for i in range(N_entrada):\n",
    "    W.append(random.random()*2 -1)\n"
   ]
  },
  {
   "cell_type": "code",
   "execution_count": 6,
   "metadata": {},
   "outputs": [
    {
     "data": {
      "text/plain": [
       "[-0.6070788254534569, 0.08817247957868424, -0.6313702789172153]"
      ]
     },
     "execution_count": 6,
     "metadata": {},
     "output_type": "execute_result"
    }
   ],
   "source": [
    "W"
   ]
  },
  {
   "cell_type": "markdown",
   "metadata": {},
   "source": [
    "# predição"
   ]
  },
  {
   "cell_type": "code",
   "execution_count": 7,
   "metadata": {},
   "outputs": [],
   "source": [
    "def predict(X):\n",
    "    return sigmoid(sum([w*x for w,x in zip(W, X)])) "
   ]
  },
  {
   "cell_type": "markdown",
   "metadata": {},
   "source": [
    "### Testando"
   ]
  },
  {
   "cell_type": "code",
   "execution_count": 8,
   "metadata": {},
   "outputs": [
    {
     "name": "stdout",
     "output_type": "stream",
     "text": [
      "0.2247060569294083\n",
      "0.25101936139419706\n",
      "0.2670507492593607\n",
      "0.29642678053011284\n",
      "0.3674440066948777\n",
      "0.33379613202683134\n"
     ]
    }
   ],
   "source": [
    "for X in points:\n",
    "    p = predict(X)\n",
    "    print(p)"
   ]
  },
  {
   "cell_type": "markdown",
   "metadata": {},
   "source": [
    "### Função de treinamento"
   ]
  },
  {
   "cell_type": "code",
   "execution_count": 9,
   "metadata": {},
   "outputs": [],
   "source": [
    "lr = 0.5\n",
    "\n",
    "def treinaPerceptron(points, valor):\n",
    "    for x_train, y_train in zip(points, valor):\n",
    "        e = y_train[0] - predict(x_train)\n",
    "        \n",
    "        for i in range(len(W)):\n",
    "            W[i] += lr*e*x_train[i]"
   ]
  },
  {
   "cell_type": "markdown",
   "metadata": {},
   "source": [
    "### Função de visualização 2D"
   ]
  },
  {
   "cell_type": "code",
   "execution_count": 10,
   "metadata": {},
   "outputs": [],
   "source": [
    "def visualiza(zero1=False):\n",
    "    img = np.ones((300, 400)) \n",
    "    # grab the image dimensions\n",
    "    w = img.shape[0]\n",
    "    h = img.shape[1]\n",
    "\n",
    "    if zero1:\n",
    "        for x in range(0, w):\n",
    "            for y in range(0, h):\n",
    "                # threshold the pixel\n",
    "                if (predict([x/w, y/h, 1]) > 0.5):\n",
    "                    img[x][y] = 1\n",
    "                else:\n",
    "                    img[x][y] = 0 \n",
    "    else:\n",
    "        # loop over the image, pixel by pixel\n",
    "        for x in range(0, w):\n",
    "            for y in range(0, h):\n",
    "                # threshold the pixel\n",
    "                img[x][y] = predict([x/w, y/h, 1])\n",
    "    \n",
    "    plt.imshow(img, origin='lower')\n",
    "    plt.colorbar()\n",
    "    for x, y in zip(points,valor):\n",
    "        if y[0] == 1:\n",
    "            plt.scatter(x=x[0]*h, y=x[1]*w, c='r', s=40)\n",
    "        else:\n",
    "            plt.scatter(x=x[0]*h, y=x[1]*w, c='b', s=40)\n",
    "    plt.show()"
   ]
  },
  {
   "cell_type": "markdown",
   "metadata": {},
   "source": [
    "## Testando a visualização"
   ]
  },
  {
   "cell_type": "code",
   "execution_count": 11,
   "metadata": {},
   "outputs": [
    {
     "data": {
      "image/png": "[encoded data removed]",
      "text/plain": [
       "<Figure size 432x288 with 2 Axes>"
      ]
     },
     "metadata": {
      "needs_background": "light"
     },
     "output_type": "display_data"
    }
   ],
   "source": [
    "visualiza(False)"
   ]
  },
  {
   "cell_type": "code",
   "execution_count": 12,
   "metadata": {},
   "outputs": [
    {
     "data": {
      "image/png": "[encoded data removed]",
      "text/plain": [
       "<Figure size 432x288 with 2 Axes>"
      ]
     },
     "metadata": {
      "needs_background": "light"
     },
     "output_type": "display_data"
    }
   ],
   "source": [
    "visualiza(True)"
   ]
  },
  {
   "cell_type": "markdown",
   "metadata": {},
   "source": [
    "## Observando o treinamento\n",
    "\n",
    "Observe como a rede \"Aprende a separar os pontos azuis dos vermelhos\""
   ]
  },
  {
   "cell_type": "code",
   "execution_count": 13,
   "metadata": {},
   "outputs": [],
   "source": [
    "epoch = 0"
   ]
  },
  {
   "cell_type": "code",
   "execution_count": 22,
   "metadata": {},
   "outputs": [
    {
     "data": {
      "image/png": "[encoded data removed]",
      "text/plain": [
       "<Figure size 432x288 with 2 Axes>"
      ]
     },
     "metadata": {
      "needs_background": "light"
     },
     "output_type": "display_data"
    },
    {
     "data": {
      "image/png": "[encoded data removed]",
      "text/plain": [
       "<Figure size 432x288 with 2 Axes>"
      ]
     },
     "metadata": {
      "needs_background": "light"
     },
     "output_type": "display_data"
    },
    {
     "name": "stdout",
     "output_type": "stream",
     "text": [
      "Epocas:  8  |  [2.114686804285525, -2.1907223391796284, -0.22657164103141686]\n"
     ]
    }
   ],
   "source": [
    "treinaPerceptron(points, valor)\n",
    "visualiza(False)\n",
    "visualiza(True)\n",
    "epoch += 1\n",
    "print(\"Epocas: \",epoch,\" | \",W)"
   ]
  },
  {
   "cell_type": "code",
   "execution_count": 15,
   "metadata": {},
   "outputs": [
    {
     "data": {
      "text/plain": [
       "[-0.0190982084714557, -0.34263326069580824, -0.4876371797140786]"
      ]
     },
     "execution_count": 15,
     "metadata": {},
     "output_type": "execute_result"
    }
   ],
   "source": [
    "W"
   ]
  }
 ],
 "metadata": {
  "kernelspec": {
   "display_name": "Python 3",
   "language": "python",
   "name": "python3"
  },
  "language_info": {
   "codemirror_mode": {
    "name": "ipython",
    "version": 3
   },
   "file_extension": ".py",
   "mimetype": "text/x-python",
   "name": "python",
   "nbconvert_exporter": "python",
   "pygments_lexer": "ipython3",
   "version": "3.6.6"
  }
 },
 "nbformat": 4,
 "nbformat_minor": 2
}
