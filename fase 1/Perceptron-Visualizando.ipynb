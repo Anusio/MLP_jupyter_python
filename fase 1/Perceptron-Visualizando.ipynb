{
 "cells": [
  {
   "cell_type": "markdown",
   "metadata": {},
   "source": [
    "# Criando uma PERCEPTRON\n",
    "\n",
    "## Como visualizar\n",
    "\n",
    "Você pode visualizar o comportamento de uma rede neural dependendo do problema, a exemplo de um problema bidimensional onde você tem duas variáveis de entrada e uma saída, como o exemplo de exercício."
   ]
  },
  {
   "cell_type": "markdown",
   "metadata": {},
   "source": [
    "#### Imports"
   ]
  },
  {
   "cell_type": "code",
   "execution_count": 1,
   "metadata": {},
   "outputs": [],
   "source": [
    "import numpy as np\n",
    "import matplotlib.pyplot as plt\n",
    "import random\n",
    "import math"
   ]
  },
  {
   "cell_type": "markdown",
   "metadata": {},
   "source": [
    "#### Código"
   ]
  },
  {
   "cell_type": "code",
   "execution_count": 2,
   "metadata": {},
   "outputs": [],
   "source": [
    "def sigmoid(x):\n",
    "    return 1 / (1 + math.exp(-x))"
   ]
  },
  {
   "cell_type": "code",
   "execution_count": 3,
   "metadata": {},
   "outputs": [],
   "source": [
    "# Entrada\n",
    "points = [[1,0]]"
   ]
  },
  {
   "cell_type": "code",
   "execution_count": 4,
   "metadata": {},
   "outputs": [],
   "source": [
    "# Criando os pesos da perceptron\n",
    "W = []\n",
    "N_entrada = 2\n",
    "\n",
    "for i in range(N_entrada):\n",
    "    W.append(random.random()*20 -10)"
   ]
  },
  {
   "cell_type": "code",
   "execution_count": 5,
   "metadata": {},
   "outputs": [
    {
     "data": {
      "text/plain": [
       "[0.86855683955865, -0.1950020747994543]"
      ]
     },
     "execution_count": 5,
     "metadata": {},
     "output_type": "execute_result"
    }
   ],
   "source": [
    "W"
   ]
  },
  {
   "cell_type": "code",
   "execution_count": 6,
   "metadata": {},
   "outputs": [],
   "source": [
    "def predict(X):\n",
    "    return sigmoid(sum([w*x for w,x in zip(W, X)]))"
   ]
  },
  {
   "cell_type": "code",
   "execution_count": 7,
   "metadata": {},
   "outputs": [
    {
     "name": "stdout",
     "output_type": "stream",
     "text": [
      "0.7044453176246814\n"
     ]
    }
   ],
   "source": [
    "for X in points:\n",
    "    p = predict(X)\n",
    "    print(p)"
   ]
  },
  {
   "cell_type": "markdown",
   "metadata": {},
   "source": [
    "## Visualizando...\n",
    "\n",
    "Cria-se uma imagem de tamanho arbitrário"
   ]
  },
  {
   "cell_type": "code",
   "execution_count": 8,
   "metadata": {},
   "outputs": [],
   "source": [
    "img = np.ones((300, 400)) "
   ]
  },
  {
   "cell_type": "markdown",
   "metadata": {},
   "source": [
    "Define-se o tamanho das entradas x e y, sendo que a largura da imagem será o máximo a ser exibido na direção x enquanto que a altura será na direção y.\n",
    "\n",
    "Então manda-se predizer, com os valores baseados em x e y, sendo que serão convertidos para valores do problema, pintando cada pixel da imagem na posição x e y calculada.\n"
   ]
  },
  {
   "cell_type": "code",
   "execution_count": 9,
   "metadata": {},
   "outputs": [
    {
     "name": "stdout",
     "output_type": "stream",
     "text": [
      "(300, 400)\n"
     ]
    }
   ],
   "source": [
    "# grab the image dimensions\n",
    "w = img.shape[0]\n",
    "h = img.shape[1]\n",
    "\n",
    "# loop over the image, pixel by pixel\n",
    "for x in range(0, w):\n",
    "    for y in range(0, h):\n",
    "        # threshold the pixel\n",
    "        img[x][y] = predict([x/w, y/h])\n"
   ]
  },
  {
   "cell_type": "code",
   "execution_count": 10,
   "metadata": {},
   "outputs": [
    {
     "data": {
      "image/png": "[encoded data removed]",
      "text/plain": [
       "<Figure size 432x288 with 2 Axes>"
      ]
     },
     "metadata": {
      "needs_background": "light"
     },
     "output_type": "display_data"
    }
   ],
   "source": [
    "plt.imshow(img, origin='lower')\n",
    "plt.colorbar()\n",
    "plt.show()"
   ]
  },
  {
   "cell_type": "markdown",
   "metadata": {},
   "source": [
    "Diz-se que os valores de saída da rede, em problemas de classificação, é a certeza que a rede tem de esta certa. Assim, perceba que quanto mais perto de (0, 300) e (400, 0) mais certeza a rede tem de que a resposta é uma ou outra classificação."
   ]
  },
  {
   "cell_type": "code",
   "execution_count": 11,
   "metadata": {},
   "outputs": [
    {
     "name": "stdout",
     "output_type": "stream",
     "text": [
      "(300, 400)\n"
     ]
    }
   ],
   "source": [
    "# grab the image dimensions\n",
    "w = img.shape[0]\n",
    "h = img.shape[1]\n",
    "\n",
    "# loop over the image, pixel by pixel\n",
    "for x in range(0, w):\n",
    "    for y in range(0, h):\n",
    "        # threshold the pixel\n",
    "        if (predict([x/w, y/h]) > 0.5):\n",
    "            img[x][y] = 1\n",
    "        else:\n",
    "            img[x][y] = 0 "
   ]
  },
  {
   "cell_type": "code",
   "execution_count": 12,
   "metadata": {},
   "outputs": [
    {
     "data": {
      "image/png": "[encoded data removed]",
      "text/plain": [
       "<Figure size 432x288 with 2 Axes>"
      ]
     },
     "metadata": {
      "needs_background": "light"
     },
     "output_type": "display_data"
    }
   ],
   "source": [
    "plt.imshow(img, origin='lower')\n",
    "plt.colorbar()\n",
    "plt.show()"
   ]
  },
  {
   "cell_type": "markdown",
   "metadata": {},
   "source": [
    "# Exercício\n",
    "\n",
    "1. Modifique os pesos e veja o resultado e descreva o que aconteceu.\n",
    "\n",
    "\n",
    "2. A perceptron do jeito que está, consegue predizer quais dos problemas? por que?\n",
    "![Problemas](rosas1.png)\n"
   ]
  },
  {
   "cell_type": "code",
   "execution_count": null,
   "metadata": {},
   "outputs": [],
   "source": []
  }
 ],
 "metadata": {
  "kernelspec": {
   "display_name": "Python 3",
   "language": "python",
   "name": "python3"
  },
  "language_info": {
   "codemirror_mode": {
    "name": "ipython",
    "version": 3
   },
   "file_extension": ".py",
   "mimetype": "text/x-python",
   "name": "python",
   "nbconvert_exporter": "python",
   "pygments_lexer": "ipython3",
   "version": "3.7.3"
  }
 },
 "nbformat": 4,
 "nbformat_minor": 2
}
